{
 "cells": [
  {
   "cell_type": "code",
   "execution_count": 1,
   "metadata": {},
   "outputs": [],
   "source": [
    "import pandas as pd\n",
    "\n",
    "import pandas as pd\n",
    "import matplotlib.pyplot as plt\n",
    "%matplotlib inline"
   ]
  },
  {
   "cell_type": "code",
   "execution_count": 7,
   "metadata": {},
   "outputs": [],
   "source": [
    "df_agriculture = pd.read_csv('agricultural_land_cleaned.csv')\n",
    "df_landarea = pd.read_csv('WB_total_land_area.csv')"
   ]
  },
  {
   "cell_type": "code",
   "execution_count": 8,
   "metadata": {},
   "outputs": [
    {
     "data": {
      "text/html": [
       "<div>\n",
       "<style scoped>\n",
       "    .dataframe tbody tr th:only-of-type {\n",
       "        vertical-align: middle;\n",
       "    }\n",
       "\n",
       "    .dataframe tbody tr th {\n",
       "        vertical-align: top;\n",
       "    }\n",
       "\n",
       "    .dataframe thead th {\n",
       "        text-align: right;\n",
       "    }\n",
       "</style>\n",
       "<table border=\"1\" class=\"dataframe\">\n",
       "  <thead>\n",
       "    <tr style=\"text-align: right;\">\n",
       "      <th></th>\n",
       "      <th>Country Name</th>\n",
       "      <th>Country Code</th>\n",
       "      <th>Indicator Name</th>\n",
       "      <th>2015</th>\n",
       "    </tr>\n",
       "  </thead>\n",
       "  <tbody>\n",
       "    <tr>\n",
       "      <th>0</th>\n",
       "      <td>Aruba</td>\n",
       "      <td>ABW</td>\n",
       "      <td>Agricultural land (% of land area)</td>\n",
       "      <td>11.111111</td>\n",
       "    </tr>\n",
       "    <tr>\n",
       "      <th>1</th>\n",
       "      <td>Afghanistan</td>\n",
       "      <td>AFG</td>\n",
       "      <td>Agricultural land (% of land area)</td>\n",
       "      <td>58.067580</td>\n",
       "    </tr>\n",
       "    <tr>\n",
       "      <th>2</th>\n",
       "      <td>Angola</td>\n",
       "      <td>AGO</td>\n",
       "      <td>Agricultural land (% of land area)</td>\n",
       "      <td>47.477340</td>\n",
       "    </tr>\n",
       "    <tr>\n",
       "      <th>3</th>\n",
       "      <td>Albania</td>\n",
       "      <td>ALB</td>\n",
       "      <td>Agricultural land (% of land area)</td>\n",
       "      <td>42.857664</td>\n",
       "    </tr>\n",
       "    <tr>\n",
       "      <th>4</th>\n",
       "      <td>Andorra</td>\n",
       "      <td>AND</td>\n",
       "      <td>Agricultural land (% of land area)</td>\n",
       "      <td>40.021277</td>\n",
       "    </tr>\n",
       "  </tbody>\n",
       "</table>\n",
       "</div>"
      ],
      "text/plain": [
       "  Country Name Country Code                      Indicator Name       2015\n",
       "0        Aruba          ABW  Agricultural land (% of land area)  11.111111\n",
       "1  Afghanistan          AFG  Agricultural land (% of land area)  58.067580\n",
       "2       Angola          AGO  Agricultural land (% of land area)  47.477340\n",
       "3      Albania          ALB  Agricultural land (% of land area)  42.857664\n",
       "4      Andorra          AND  Agricultural land (% of land area)  40.021277"
      ]
     },
     "execution_count": 8,
     "metadata": {},
     "output_type": "execute_result"
    }
   ],
   "source": [
    "df_agriculture.head()"
   ]
  },
  {
   "cell_type": "code",
   "execution_count": 9,
   "metadata": {},
   "outputs": [
    {
     "data": {
      "text/html": [
       "<div>\n",
       "<style scoped>\n",
       "    .dataframe tbody tr th:only-of-type {\n",
       "        vertical-align: middle;\n",
       "    }\n",
       "\n",
       "    .dataframe tbody tr th {\n",
       "        vertical-align: top;\n",
       "    }\n",
       "\n",
       "    .dataframe thead th {\n",
       "        text-align: right;\n",
       "    }\n",
       "</style>\n",
       "<table border=\"1\" class=\"dataframe\">\n",
       "  <thead>\n",
       "    <tr style=\"text-align: right;\">\n",
       "      <th></th>\n",
       "      <th>Country Name</th>\n",
       "      <th>Country Code</th>\n",
       "      <th>Indicator Name</th>\n",
       "      <th>2017</th>\n",
       "    </tr>\n",
       "  </thead>\n",
       "  <tbody>\n",
       "    <tr>\n",
       "      <th>0</th>\n",
       "      <td>Aruba</td>\n",
       "      <td>ABW</td>\n",
       "      <td>Land area (sq. km)</td>\n",
       "      <td>180.0</td>\n",
       "    </tr>\n",
       "    <tr>\n",
       "      <th>1</th>\n",
       "      <td>Afghanistan</td>\n",
       "      <td>AFG</td>\n",
       "      <td>Land area (sq. km)</td>\n",
       "      <td>652860.0</td>\n",
       "    </tr>\n",
       "    <tr>\n",
       "      <th>2</th>\n",
       "      <td>Angola</td>\n",
       "      <td>AGO</td>\n",
       "      <td>Land area (sq. km)</td>\n",
       "      <td>1246700.0</td>\n",
       "    </tr>\n",
       "    <tr>\n",
       "      <th>3</th>\n",
       "      <td>Albania</td>\n",
       "      <td>ALB</td>\n",
       "      <td>Land area (sq. km)</td>\n",
       "      <td>27400.0</td>\n",
       "    </tr>\n",
       "    <tr>\n",
       "      <th>4</th>\n",
       "      <td>Andorra</td>\n",
       "      <td>AND</td>\n",
       "      <td>Land area (sq. km)</td>\n",
       "      <td>470.0</td>\n",
       "    </tr>\n",
       "  </tbody>\n",
       "</table>\n",
       "</div>"
      ],
      "text/plain": [
       "  Country Name Country Code      Indicator Name       2017\n",
       "0        Aruba          ABW  Land area (sq. km)      180.0\n",
       "1  Afghanistan          AFG  Land area (sq. km)   652860.0\n",
       "2       Angola          AGO  Land area (sq. km)  1246700.0\n",
       "3      Albania          ALB  Land area (sq. km)    27400.0\n",
       "4      Andorra          AND  Land area (sq. km)      470.0"
      ]
     },
     "execution_count": 9,
     "metadata": {},
     "output_type": "execute_result"
    }
   ],
   "source": [
    "df_landarea.head()"
   ]
  },
  {
   "cell_type": "code",
   "execution_count": 29,
   "metadata": {},
   "outputs": [],
   "source": [
    "df_agriculture.rename(index=str, columns={\"2015\": \"Percent agriculture\", \"Indicator Name\": \"Indicator\"}, inplace=True)\n"
   ]
  },
  {
   "cell_type": "code",
   "execution_count": 31,
   "metadata": {},
   "outputs": [],
   "source": [
    "df_landarea.rename(index=str, columns={\"2017\": \"Land area\", \"Indicator Name\": \"Indicator\"}, inplace=True)"
   ]
  },
  {
   "cell_type": "code",
   "execution_count": 38,
   "metadata": {},
   "outputs": [],
   "source": [
    "df_landarea[\"Percent agriculture\"] = df_agriculture['Percent agriculture']"
   ]
  },
  {
   "cell_type": "code",
   "execution_count": 40,
   "metadata": {},
   "outputs": [],
   "source": [
    "df_landarea[\"Agriculture area\"] = df_landarea[\"Land area\"] * df_landarea['Percent agriculture'] / 100"
   ]
  },
  {
   "cell_type": "code",
   "execution_count": 44,
   "metadata": {},
   "outputs": [
    {
     "data": {
      "text/html": [
       "<div>\n",
       "<style scoped>\n",
       "    .dataframe tbody tr th:only-of-type {\n",
       "        vertical-align: middle;\n",
       "    }\n",
       "\n",
       "    .dataframe tbody tr th {\n",
       "        vertical-align: top;\n",
       "    }\n",
       "\n",
       "    .dataframe thead th {\n",
       "        text-align: right;\n",
       "    }\n",
       "</style>\n",
       "<table border=\"1\" class=\"dataframe\">\n",
       "  <thead>\n",
       "    <tr style=\"text-align: right;\">\n",
       "      <th></th>\n",
       "      <th>Country Name</th>\n",
       "      <th>Country Code</th>\n",
       "      <th>Indicator</th>\n",
       "      <th>Land area</th>\n",
       "      <th>Percent agriculture</th>\n",
       "      <th>Agriculture area</th>\n",
       "    </tr>\n",
       "  </thead>\n",
       "  <tbody>\n",
       "    <tr>\n",
       "      <th>0</th>\n",
       "      <td>Aruba</td>\n",
       "      <td>ABW</td>\n",
       "      <td>Land area (sq. km)</td>\n",
       "      <td>180.0</td>\n",
       "      <td>11.111111</td>\n",
       "      <td>20.0</td>\n",
       "    </tr>\n",
       "    <tr>\n",
       "      <th>1</th>\n",
       "      <td>Afghanistan</td>\n",
       "      <td>AFG</td>\n",
       "      <td>Land area (sq. km)</td>\n",
       "      <td>652860.0</td>\n",
       "      <td>58.067580</td>\n",
       "      <td>379100.0</td>\n",
       "    </tr>\n",
       "    <tr>\n",
       "      <th>2</th>\n",
       "      <td>Angola</td>\n",
       "      <td>AGO</td>\n",
       "      <td>Land area (sq. km)</td>\n",
       "      <td>1246700.0</td>\n",
       "      <td>47.477340</td>\n",
       "      <td>591900.0</td>\n",
       "    </tr>\n",
       "    <tr>\n",
       "      <th>3</th>\n",
       "      <td>Albania</td>\n",
       "      <td>ALB</td>\n",
       "      <td>Land area (sq. km)</td>\n",
       "      <td>27400.0</td>\n",
       "      <td>42.857664</td>\n",
       "      <td>11743.0</td>\n",
       "    </tr>\n",
       "    <tr>\n",
       "      <th>4</th>\n",
       "      <td>Andorra</td>\n",
       "      <td>AND</td>\n",
       "      <td>Land area (sq. km)</td>\n",
       "      <td>470.0</td>\n",
       "      <td>40.021277</td>\n",
       "      <td>188.1</td>\n",
       "    </tr>\n",
       "  </tbody>\n",
       "</table>\n",
       "</div>"
      ],
      "text/plain": [
       "  Country Name Country Code           Indicator  Land area  \\\n",
       "0        Aruba          ABW  Land area (sq. km)      180.0   \n",
       "1  Afghanistan          AFG  Land area (sq. km)   652860.0   \n",
       "2       Angola          AGO  Land area (sq. km)  1246700.0   \n",
       "3      Albania          ALB  Land area (sq. km)    27400.0   \n",
       "4      Andorra          AND  Land area (sq. km)      470.0   \n",
       "\n",
       "   Percent agriculture  Agriculture area  \n",
       "0            11.111111              20.0  \n",
       "1            58.067580          379100.0  \n",
       "2            47.477340          591900.0  \n",
       "3            42.857664           11743.0  \n",
       "4            40.021277             188.1  "
      ]
     },
     "execution_count": 44,
     "metadata": {},
     "output_type": "execute_result"
    }
   ],
   "source": [
    "df_landarea.head()"
   ]
  },
  {
   "cell_type": "code",
   "execution_count": 56,
   "metadata": {},
   "outputs": [
    {
     "data": {
      "text/plain": [
       "<matplotlib.axes._subplots.AxesSubplot at 0x10a248d30>"
      ]
     },
     "execution_count": 56,
     "metadata": {},
     "output_type": "execute_result"
    },
    {
     "data": {
      "image/png": "[encoded data removed]",
      "text/plain": [
       "<Figure size 432x288 with 1 Axes>"
      ]
     },
     "metadata": {},
     "output_type": "display_data"
    }
   ],
   "source": [
    "df_landarea.sort_values(by=\"Percent agriculture\", ascending=False).head(10).plot(kind='barh', x='Country Name', y='Percent agriculture')"
   ]
  },
  {
   "cell_type": "code",
   "execution_count": 59,
   "metadata": {},
   "outputs": [
    {
     "data": {
      "text/html": [
       "<div>\n",
       "<style scoped>\n",
       "    .dataframe tbody tr th:only-of-type {\n",
       "        vertical-align: middle;\n",
       "    }\n",
       "\n",
       "    .dataframe tbody tr th {\n",
       "        vertical-align: top;\n",
       "    }\n",
       "\n",
       "    .dataframe thead th {\n",
       "        text-align: right;\n",
       "    }\n",
       "</style>\n",
       "<table border=\"1\" class=\"dataframe\">\n",
       "  <thead>\n",
       "    <tr style=\"text-align: right;\">\n",
       "      <th></th>\n",
       "      <th>Country Name</th>\n",
       "      <th>Country Code</th>\n",
       "      <th>Indicator</th>\n",
       "      <th>Land area</th>\n",
       "      <th>Percent agriculture</th>\n",
       "      <th>Agriculture area</th>\n",
       "    </tr>\n",
       "  </thead>\n",
       "  <tbody>\n",
       "    <tr>\n",
       "      <th>0</th>\n",
       "      <td>Aruba</td>\n",
       "      <td>ABW</td>\n",
       "      <td>Land area (sq. km)</td>\n",
       "      <td>180.0</td>\n",
       "      <td>11.111111</td>\n",
       "      <td>20.0</td>\n",
       "    </tr>\n",
       "    <tr>\n",
       "      <th>1</th>\n",
       "      <td>Afghanistan</td>\n",
       "      <td>AFG</td>\n",
       "      <td>Land area (sq. km)</td>\n",
       "      <td>652860.0</td>\n",
       "      <td>58.067580</td>\n",
       "      <td>379100.0</td>\n",
       "    </tr>\n",
       "    <tr>\n",
       "      <th>2</th>\n",
       "      <td>Angola</td>\n",
       "      <td>AGO</td>\n",
       "      <td>Land area (sq. km)</td>\n",
       "      <td>1246700.0</td>\n",
       "      <td>47.477340</td>\n",
       "      <td>591900.0</td>\n",
       "    </tr>\n",
       "    <tr>\n",
       "      <th>3</th>\n",
       "      <td>Albania</td>\n",
       "      <td>ALB</td>\n",
       "      <td>Land area (sq. km)</td>\n",
       "      <td>27400.0</td>\n",
       "      <td>42.857664</td>\n",
       "      <td>11743.0</td>\n",
       "    </tr>\n",
       "    <tr>\n",
       "      <th>4</th>\n",
       "      <td>Andorra</td>\n",
       "      <td>AND</td>\n",
       "      <td>Land area (sq. km)</td>\n",
       "      <td>470.0</td>\n",
       "      <td>40.021277</td>\n",
       "      <td>188.1</td>\n",
       "    </tr>\n",
       "  </tbody>\n",
       "</table>\n",
       "</div>"
      ],
      "text/plain": [
       "  Country Name Country Code           Indicator  Land area  \\\n",
       "0        Aruba          ABW  Land area (sq. km)      180.0   \n",
       "1  Afghanistan          AFG  Land area (sq. km)   652860.0   \n",
       "2       Angola          AGO  Land area (sq. km)  1246700.0   \n",
       "3      Albania          ALB  Land area (sq. km)    27400.0   \n",
       "4      Andorra          AND  Land area (sq. km)      470.0   \n",
       "\n",
       "   Percent agriculture  Agriculture area  \n",
       "0            11.111111              20.0  \n",
       "1            58.067580          379100.0  \n",
       "2            47.477340          591900.0  \n",
       "3            42.857664           11743.0  \n",
       "4            40.021277             188.1  "
      ]
     },
     "execution_count": 59,
     "metadata": {},
     "output_type": "execute_result"
    }
   ],
   "source": [
    "df_landarea.head()"
   ]
  },
  {
   "cell_type": "markdown",
   "metadata": {},
   "source": [
    "Currently available for Cameroon, Indonesia, Liberia, and Republic of Congo"
   ]
  },
  {
   "cell_type": "code",
   "execution_count": 102,
   "metadata": {},
   "outputs": [],
   "source": [
    "df = df_landarea[(df_landarea['Country Name'] == 'Cameroon') | (df_landarea['Country Name'] == 'Indonesia') | (df_landarea['Country Name'] == 'Liberia') | (df_landarea['Country Name'] == 'Congo, Rep.')]"
   ]
  },
  {
   "cell_type": "code",
   "execution_count": 103,
   "metadata": {},
   "outputs": [
    {
     "data": {
      "text/html": [
       "<div>\n",
       "<style scoped>\n",
       "    .dataframe tbody tr th:only-of-type {\n",
       "        vertical-align: middle;\n",
       "    }\n",
       "\n",
       "    .dataframe tbody tr th {\n",
       "        vertical-align: top;\n",
       "    }\n",
       "\n",
       "    .dataframe thead th {\n",
       "        text-align: right;\n",
       "    }\n",
       "</style>\n",
       "<table border=\"1\" class=\"dataframe\">\n",
       "  <thead>\n",
       "    <tr style=\"text-align: right;\">\n",
       "      <th></th>\n",
       "      <th>Country Name</th>\n",
       "      <th>Country Code</th>\n",
       "      <th>Indicator</th>\n",
       "      <th>Land area</th>\n",
       "      <th>Percent agriculture</th>\n",
       "      <th>Agriculture area</th>\n",
       "    </tr>\n",
       "  </thead>\n",
       "  <tbody>\n",
       "    <tr>\n",
       "      <th>40</th>\n",
       "      <td>Cameroon</td>\n",
       "      <td>CMR</td>\n",
       "      <td>Land area (sq. km)</td>\n",
       "      <td>472710.0</td>\n",
       "      <td>20.625754</td>\n",
       "      <td>97500.0</td>\n",
       "    </tr>\n",
       "    <tr>\n",
       "      <th>42</th>\n",
       "      <td>Congo, Rep.</td>\n",
       "      <td>COG</td>\n",
       "      <td>Land area (sq. km)</td>\n",
       "      <td>341500.0</td>\n",
       "      <td>31.118594</td>\n",
       "      <td>106270.0</td>\n",
       "    </tr>\n",
       "    <tr>\n",
       "      <th>104</th>\n",
       "      <td>Indonesia</td>\n",
       "      <td>IDN</td>\n",
       "      <td>Land area (sq. km)</td>\n",
       "      <td>1811570.0</td>\n",
       "      <td>31.464420</td>\n",
       "      <td>570000.0</td>\n",
       "    </tr>\n",
       "    <tr>\n",
       "      <th>129</th>\n",
       "      <td>Liberia</td>\n",
       "      <td>LBR</td>\n",
       "      <td>Land area (sq. km)</td>\n",
       "      <td>96320.0</td>\n",
       "      <td>28.031561</td>\n",
       "      <td>27000.0</td>\n",
       "    </tr>\n",
       "  </tbody>\n",
       "</table>\n",
       "</div>"
      ],
      "text/plain": [
       "    Country Name Country Code           Indicator  Land area  \\\n",
       "40      Cameroon          CMR  Land area (sq. km)   472710.0   \n",
       "42   Congo, Rep.          COG  Land area (sq. km)   341500.0   \n",
       "104    Indonesia          IDN  Land area (sq. km)  1811570.0   \n",
       "129      Liberia          LBR  Land area (sq. km)    96320.0   \n",
       "\n",
       "     Percent agriculture  Agriculture area  \n",
       "40             20.625754           97500.0  \n",
       "42             31.118594          106270.0  \n",
       "104            31.464420          570000.0  \n",
       "129            28.031561           27000.0  "
      ]
     },
     "execution_count": 103,
     "metadata": {},
     "output_type": "execute_result"
    }
   ],
   "source": [
    "df"
   ]
  },
  {
   "cell_type": "code",
   "execution_count": 104,
   "metadata": {},
   "outputs": [
    {
     "data": {
      "text/html": [
       "<div>\n",
       "<style scoped>\n",
       "    .dataframe tbody tr th:only-of-type {\n",
       "        vertical-align: middle;\n",
       "    }\n",
       "\n",
       "    .dataframe tbody tr th {\n",
       "        vertical-align: top;\n",
       "    }\n",
       "\n",
       "    .dataframe thead th {\n",
       "        text-align: right;\n",
       "    }\n",
       "</style>\n",
       "<table border=\"1\" class=\"dataframe\">\n",
       "  <thead>\n",
       "    <tr style=\"text-align: right;\">\n",
       "      <th></th>\n",
       "      <th>objectid</th>\n",
       "      <th>country</th>\n",
       "      <th>name</th>\n",
       "      <th>company</th>\n",
       "      <th>group_comp</th>\n",
       "      <th>subgroup</th>\n",
       "      <th>groupid</th>\n",
       "      <th>area_ha</th>\n",
       "    </tr>\n",
       "  </thead>\n",
       "  <tbody>\n",
       "    <tr>\n",
       "      <th>0</th>\n",
       "      <td>6185</td>\n",
       "      <td>CMR</td>\n",
       "      <td>CDC Plantation</td>\n",
       "      <td>NaN</td>\n",
       "      <td>NaN</td>\n",
       "      <td>NaN</td>\n",
       "      <td>NaN</td>\n",
       "      <td>1074.32</td>\n",
       "    </tr>\n",
       "    <tr>\n",
       "      <th>1</th>\n",
       "      <td>6186</td>\n",
       "      <td>CMR</td>\n",
       "      <td>CDC Plantation</td>\n",
       "      <td>NaN</td>\n",
       "      <td>NaN</td>\n",
       "      <td>NaN</td>\n",
       "      <td>NaN</td>\n",
       "      <td>401.715</td>\n",
       "    </tr>\n",
       "    <tr>\n",
       "      <th>2</th>\n",
       "      <td>6187</td>\n",
       "      <td>CMR</td>\n",
       "      <td>Ferme suisse</td>\n",
       "      <td>NaN</td>\n",
       "      <td>NaN</td>\n",
       "      <td>NaN</td>\n",
       "      <td>NaN</td>\n",
       "      <td>4223.68</td>\n",
       "    </tr>\n",
       "    <tr>\n",
       "      <th>3</th>\n",
       "      <td>6188</td>\n",
       "      <td>CMR</td>\n",
       "      <td>Socapalm</td>\n",
       "      <td>NaN</td>\n",
       "      <td>NaN</td>\n",
       "      <td>NaN</td>\n",
       "      <td>NaN</td>\n",
       "      <td>5823.61</td>\n",
       "    </tr>\n",
       "    <tr>\n",
       "      <th>4</th>\n",
       "      <td>6189</td>\n",
       "      <td>CMR</td>\n",
       "      <td>Socapalm</td>\n",
       "      <td>NaN</td>\n",
       "      <td>NaN</td>\n",
       "      <td>NaN</td>\n",
       "      <td>NaN</td>\n",
       "      <td>16321.9</td>\n",
       "    </tr>\n",
       "  </tbody>\n",
       "</table>\n",
       "</div>"
      ],
      "text/plain": [
       "   objectid country            name company group_comp subgroup  groupid  \\\n",
       "0      6185     CMR  CDC Plantation     NaN        NaN      NaN      NaN   \n",
       "1      6186     CMR  CDC Plantation     NaN        NaN      NaN      NaN   \n",
       "2      6187     CMR    Ferme suisse     NaN        NaN      NaN      NaN   \n",
       "3      6188     CMR        Socapalm     NaN        NaN      NaN      NaN   \n",
       "4      6189     CMR        Socapalm     NaN        NaN      NaN      NaN   \n",
       "\n",
       "   area_ha  \n",
       "0  1074.32  \n",
       "1  401.715  \n",
       "2  4223.68  \n",
       "3  5823.61  \n",
       "4  16321.9  "
      ]
     },
     "execution_count": 104,
     "metadata": {},
     "output_type": "execute_result"
    }
   ],
   "source": [
    "df_palm = pd.read_csv('palm_oil_area_raw.csv')\n",
    "df_palm.head()"
   ]
  },
  {
   "cell_type": "code",
   "execution_count": 105,
   "metadata": {},
   "outputs": [],
   "source": [
    "df_palm.drop(columns=['company', 'group_comp', 'subgroup', 'groupid'], inplace=True)"
   ]
  },
  {
   "cell_type": "code",
   "execution_count": 106,
   "metadata": {},
   "outputs": [
    {
     "data": {
      "text/plain": [
       "IDN                 1854\n",
       "MYS                  248\n",
       "CMR                   91\n",
       "LBR                   20\n",
       "COG                   15\n",
       "Papua New Guinea       4\n",
       "Solomon Islands        1\n",
       "Name: country, dtype: int64"
      ]
     },
     "execution_count": 106,
     "metadata": {},
     "output_type": "execute_result"
    }
   ],
   "source": [
    "df_palm.country.value_counts()"
   ]
  },
  {
   "cell_type": "code",
   "execution_count": 107,
   "metadata": {},
   "outputs": [],
   "source": [
    "df_palm['area_ha'] = df_palm['area_ha'].str.replace('*','')"
   ]
  },
  {
   "cell_type": "code",
   "execution_count": 111,
   "metadata": {},
   "outputs": [
    {
     "data": {
      "text/plain": [
       "objectid         6276\n",
       "country           COG\n",
       "name        Palmeraie\n",
       "area_ha       19949.5\n",
       "Name: 91, dtype: object"
      ]
     },
     "execution_count": 111,
     "metadata": {},
     "output_type": "execute_result"
    }
   ],
   "source": [
    "df_palm.iloc[91]"
   ]
  },
  {
   "cell_type": "code",
   "execution_count": 112,
   "metadata": {},
   "outputs": [],
   "source": [
    "df_palm['area_sqkm'] = pd.to_numeric(df_palm['area_ha'])"
   ]
  },
  {
   "cell_type": "code",
   "execution_count": 114,
   "metadata": {},
   "outputs": [],
   "source": [
    "df_palm['area_sqkm'] = df_palm['area_sqkm'] / 100"
   ]
  },
  {
   "cell_type": "code",
   "execution_count": 115,
   "metadata": {},
   "outputs": [
    {
     "data": {
      "text/html": [
       "<div>\n",
       "<style scoped>\n",
       "    .dataframe tbody tr th:only-of-type {\n",
       "        vertical-align: middle;\n",
       "    }\n",
       "\n",
       "    .dataframe tbody tr th {\n",
       "        vertical-align: top;\n",
       "    }\n",
       "\n",
       "    .dataframe thead th {\n",
       "        text-align: right;\n",
       "    }\n",
       "</style>\n",
       "<table border=\"1\" class=\"dataframe\">\n",
       "  <thead>\n",
       "    <tr style=\"text-align: right;\">\n",
       "      <th></th>\n",
       "      <th>objectid</th>\n",
       "      <th>country</th>\n",
       "      <th>name</th>\n",
       "      <th>area_ha</th>\n",
       "      <th>area_sqkm</th>\n",
       "    </tr>\n",
       "  </thead>\n",
       "  <tbody>\n",
       "    <tr>\n",
       "      <th>0</th>\n",
       "      <td>6185</td>\n",
       "      <td>CMR</td>\n",
       "      <td>CDC Plantation</td>\n",
       "      <td>1074.32</td>\n",
       "      <td>10.74320</td>\n",
       "    </tr>\n",
       "    <tr>\n",
       "      <th>1</th>\n",
       "      <td>6186</td>\n",
       "      <td>CMR</td>\n",
       "      <td>CDC Plantation</td>\n",
       "      <td>401.715</td>\n",
       "      <td>4.01715</td>\n",
       "    </tr>\n",
       "    <tr>\n",
       "      <th>2</th>\n",
       "      <td>6187</td>\n",
       "      <td>CMR</td>\n",
       "      <td>Ferme suisse</td>\n",
       "      <td>4223.68</td>\n",
       "      <td>42.23680</td>\n",
       "    </tr>\n",
       "    <tr>\n",
       "      <th>3</th>\n",
       "      <td>6188</td>\n",
       "      <td>CMR</td>\n",
       "      <td>Socapalm</td>\n",
       "      <td>5823.61</td>\n",
       "      <td>58.23610</td>\n",
       "    </tr>\n",
       "    <tr>\n",
       "      <th>4</th>\n",
       "      <td>6189</td>\n",
       "      <td>CMR</td>\n",
       "      <td>Socapalm</td>\n",
       "      <td>16321.9</td>\n",
       "      <td>163.21900</td>\n",
       "    </tr>\n",
       "  </tbody>\n",
       "</table>\n",
       "</div>"
      ],
      "text/plain": [
       "   objectid country            name  area_ha  area_sqkm\n",
       "0      6185     CMR  CDC Plantation  1074.32   10.74320\n",
       "1      6186     CMR  CDC Plantation  401.715    4.01715\n",
       "2      6187     CMR    Ferme suisse  4223.68   42.23680\n",
       "3      6188     CMR        Socapalm  5823.61   58.23610\n",
       "4      6189     CMR        Socapalm  16321.9  163.21900"
      ]
     },
     "execution_count": 115,
     "metadata": {},
     "output_type": "execute_result"
    }
   ],
   "source": [
    "df_palm.head()"
   ]
  },
  {
   "cell_type": "code",
   "execution_count": 116,
   "metadata": {},
   "outputs": [
    {
     "data": {
      "text/plain": [
       "(2233, 5)"
      ]
     },
     "execution_count": 116,
     "metadata": {},
     "output_type": "execute_result"
    }
   ],
   "source": [
    "df_palm.shape"
   ]
  },
  {
   "cell_type": "code",
   "execution_count": 122,
   "metadata": {},
   "outputs": [
    {
     "data": {
      "text/html": [
       "<div>\n",
       "<style scoped>\n",
       "    .dataframe tbody tr th:only-of-type {\n",
       "        vertical-align: middle;\n",
       "    }\n",
       "\n",
       "    .dataframe tbody tr th {\n",
       "        vertical-align: top;\n",
       "    }\n",
       "\n",
       "    .dataframe thead th {\n",
       "        text-align: right;\n",
       "    }\n",
       "</style>\n",
       "<table border=\"1\" class=\"dataframe\">\n",
       "  <thead>\n",
       "    <tr style=\"text-align: right;\">\n",
       "      <th></th>\n",
       "      <th>Country Name</th>\n",
       "      <th>Country Code</th>\n",
       "      <th>Indicator</th>\n",
       "      <th>Land area</th>\n",
       "      <th>Percent agriculture</th>\n",
       "      <th>Agriculture area</th>\n",
       "    </tr>\n",
       "  </thead>\n",
       "  <tbody>\n",
       "    <tr>\n",
       "      <th>40</th>\n",
       "      <td>Cameroon</td>\n",
       "      <td>CMR</td>\n",
       "      <td>Land area (sq. km)</td>\n",
       "      <td>472710.0</td>\n",
       "      <td>20.625754</td>\n",
       "      <td>97500.0</td>\n",
       "    </tr>\n",
       "    <tr>\n",
       "      <th>42</th>\n",
       "      <td>Congo, Rep.</td>\n",
       "      <td>COG</td>\n",
       "      <td>Land area (sq. km)</td>\n",
       "      <td>341500.0</td>\n",
       "      <td>31.118594</td>\n",
       "      <td>106270.0</td>\n",
       "    </tr>\n",
       "    <tr>\n",
       "      <th>104</th>\n",
       "      <td>Indonesia</td>\n",
       "      <td>IDN</td>\n",
       "      <td>Land area (sq. km)</td>\n",
       "      <td>1811570.0</td>\n",
       "      <td>31.464420</td>\n",
       "      <td>570000.0</td>\n",
       "    </tr>\n",
       "    <tr>\n",
       "      <th>129</th>\n",
       "      <td>Liberia</td>\n",
       "      <td>LBR</td>\n",
       "      <td>Land area (sq. km)</td>\n",
       "      <td>96320.0</td>\n",
       "      <td>28.031561</td>\n",
       "      <td>27000.0</td>\n",
       "    </tr>\n",
       "  </tbody>\n",
       "</table>\n",
       "</div>"
      ],
      "text/plain": [
       "    Country Name Country Code           Indicator  Land area  \\\n",
       "40      Cameroon          CMR  Land area (sq. km)   472710.0   \n",
       "42   Congo, Rep.          COG  Land area (sq. km)   341500.0   \n",
       "104    Indonesia          IDN  Land area (sq. km)  1811570.0   \n",
       "129      Liberia          LBR  Land area (sq. km)    96320.0   \n",
       "\n",
       "     Percent agriculture  Agriculture area  \n",
       "40             20.625754           97500.0  \n",
       "42             31.118594          106270.0  \n",
       "104            31.464420          570000.0  \n",
       "129            28.031561           27000.0  "
      ]
     },
     "execution_count": 122,
     "metadata": {},
     "output_type": "execute_result"
    }
   ],
   "source": [
    "df"
   ]
  },
  {
   "cell_type": "code",
   "execution_count": 128,
   "metadata": {},
   "outputs": [],
   "source": [
    "total_palm_area_Cameroon = sum(df_palm[df_palm['country'] == 'CMR'].area_sqkm)\n",
    "total_palm_area_Congo = sum(df_palm[df_palm['country'] == 'COG'].area_sqkm)\n",
    "total_palm_area_Indonesia = sum(df_palm[df_palm['country'] == 'IDN'].area_sqkm)\n",
    "total_palm_area_Liberia = sum(df_palm[df_palm['country'] == 'LBR'].area_sqkm)"
   ]
  },
  {
   "cell_type": "code",
   "execution_count": 129,
   "metadata": {},
   "outputs": [],
   "source": [
    "df_palm['Palm area'] = 0"
   ]
  },
  {
   "cell_type": "code",
   "execution_count": 140,
   "metadata": {},
   "outputs": [],
   "source": [
    "df_palm.loc[df_palm['country'] == 'CMR', 'Palm area'] = total_palm_area_Cameroon\n",
    "df_palm.loc[df_palm['country'] == 'COG', 'Palm area'] = total_palm_area_Congo\n",
    "df_palm.loc[df_palm['country'] == 'IDN', 'Palm area'] = total_palm_area_Indonesia\n",
    "df_palm.loc[df_palm['country'] == 'LBR', 'Palm area'] = total_palm_area_Liberia"
   ]
  },
  {
   "cell_type": "code",
   "execution_count": 148,
   "metadata": {},
   "outputs": [
    {
     "name": "stderr",
     "output_type": "stream",
     "text": [
      "/Users/max/.pyenv/versions/3.6.4/lib/python3.6/site-packages/ipykernel_launcher.py:1: SettingWithCopyWarning: \n",
      "A value is trying to be set on a copy of a slice from a DataFrame.\n",
      "Try using .loc[row_indexer,col_indexer] = value instead\n",
      "\n",
      "See the caveats in the documentation: http://pandas.pydata.org/pandas-docs/stable/indexing.html#indexing-view-versus-copy\n",
      "  \"\"\"Entry point for launching an IPython kernel.\n",
      "/Users/max/.pyenv/versions/3.6.4/lib/python3.6/site-packages/pandas/core/indexing.py:543: SettingWithCopyWarning: \n",
      "A value is trying to be set on a copy of a slice from a DataFrame.\n",
      "Try using .loc[row_indexer,col_indexer] = value instead\n",
      "\n",
      "See the caveats in the documentation: http://pandas.pydata.org/pandas-docs/stable/indexing.html#indexing-view-versus-copy\n",
      "  self.obj[item] = s\n"
     ]
    }
   ],
   "source": [
    "df['Palm area'] = 0\n",
    "df.loc[df['Country Code'] == 'CMR', 'Palm area'] = total_palm_area_Cameroon\n",
    "df.loc[df['Country Code'] == 'COG', 'Palm area'] = total_palm_area_Congo\n",
    "df.loc[df['Country Code'] == 'IDN', 'Palm area'] = total_palm_area_Indonesia\n",
    "df.loc[df['Country Code'] == 'LBR', 'Palm area'] = total_palm_area_Liberia"
   ]
  },
  {
   "cell_type": "code",
   "execution_count": 149,
   "metadata": {},
   "outputs": [
    {
     "data": {
      "text/html": [
       "<div>\n",
       "<style scoped>\n",
       "    .dataframe tbody tr th:only-of-type {\n",
       "        vertical-align: middle;\n",
       "    }\n",
       "\n",
       "    .dataframe tbody tr th {\n",
       "        vertical-align: top;\n",
       "    }\n",
       "\n",
       "    .dataframe thead th {\n",
       "        text-align: right;\n",
       "    }\n",
       "</style>\n",
       "<table border=\"1\" class=\"dataframe\">\n",
       "  <thead>\n",
       "    <tr style=\"text-align: right;\">\n",
       "      <th></th>\n",
       "      <th>Country Name</th>\n",
       "      <th>Country Code</th>\n",
       "      <th>Indicator</th>\n",
       "      <th>Land area</th>\n",
       "      <th>Percent agriculture</th>\n",
       "      <th>Agriculture area</th>\n",
       "      <th>Palm area</th>\n",
       "    </tr>\n",
       "  </thead>\n",
       "  <tbody>\n",
       "    <tr>\n",
       "      <th>40</th>\n",
       "      <td>Cameroon</td>\n",
       "      <td>CMR</td>\n",
       "      <td>Land area (sq. km)</td>\n",
       "      <td>472710.0</td>\n",
       "      <td>20.625754</td>\n",
       "      <td>97500.0</td>\n",
       "      <td>1989.197370</td>\n",
       "    </tr>\n",
       "    <tr>\n",
       "      <th>42</th>\n",
       "      <td>Congo, Rep.</td>\n",
       "      <td>COG</td>\n",
       "      <td>Land area (sq. km)</td>\n",
       "      <td>341500.0</td>\n",
       "      <td>31.118594</td>\n",
       "      <td>106270.0</td>\n",
       "      <td>5358.292875</td>\n",
       "    </tr>\n",
       "    <tr>\n",
       "      <th>104</th>\n",
       "      <td>Indonesia</td>\n",
       "      <td>IDN</td>\n",
       "      <td>Land area (sq. km)</td>\n",
       "      <td>1811570.0</td>\n",
       "      <td>31.464420</td>\n",
       "      <td>570000.0</td>\n",
       "      <td>153522.903189</td>\n",
       "    </tr>\n",
       "    <tr>\n",
       "      <th>129</th>\n",
       "      <td>Liberia</td>\n",
       "      <td>LBR</td>\n",
       "      <td>Land area (sq. km)</td>\n",
       "      <td>96320.0</td>\n",
       "      <td>28.031561</td>\n",
       "      <td>27000.0</td>\n",
       "      <td>7469.890000</td>\n",
       "    </tr>\n",
       "  </tbody>\n",
       "</table>\n",
       "</div>"
      ],
      "text/plain": [
       "    Country Name Country Code           Indicator  Land area  \\\n",
       "40      Cameroon          CMR  Land area (sq. km)   472710.0   \n",
       "42   Congo, Rep.          COG  Land area (sq. km)   341500.0   \n",
       "104    Indonesia          IDN  Land area (sq. km)  1811570.0   \n",
       "129      Liberia          LBR  Land area (sq. km)    96320.0   \n",
       "\n",
       "     Percent agriculture  Agriculture area      Palm area  \n",
       "40             20.625754           97500.0    1989.197370  \n",
       "42             31.118594          106270.0    5358.292875  \n",
       "104            31.464420          570000.0  153522.903189  \n",
       "129            28.031561           27000.0    7469.890000  "
      ]
     },
     "execution_count": 149,
     "metadata": {},
     "output_type": "execute_result"
    }
   ],
   "source": [
    "df"
   ]
  },
  {
   "cell_type": "code",
   "execution_count": 158,
   "metadata": {},
   "outputs": [
    {
     "name": "stderr",
     "output_type": "stream",
     "text": [
      "/Users/max/.pyenv/versions/3.6.4/lib/python3.6/site-packages/ipykernel_launcher.py:1: SettingWithCopyWarning: \n",
      "A value is trying to be set on a copy of a slice from a DataFrame.\n",
      "Try using .loc[row_indexer,col_indexer] = value instead\n",
      "\n",
      "See the caveats in the documentation: http://pandas.pydata.org/pandas-docs/stable/indexing.html#indexing-view-versus-copy\n",
      "  \"\"\"Entry point for launching an IPython kernel.\n"
     ]
    }
   ],
   "source": [
    "df['Percent palm'] = df['Palm area'] / df['Agriculture area'] * 100"
   ]
  },
  {
   "cell_type": "code",
   "execution_count": 159,
   "metadata": {},
   "outputs": [
    {
     "data": {
      "text/html": [
       "<div>\n",
       "<style scoped>\n",
       "    .dataframe tbody tr th:only-of-type {\n",
       "        vertical-align: middle;\n",
       "    }\n",
       "\n",
       "    .dataframe tbody tr th {\n",
       "        vertical-align: top;\n",
       "    }\n",
       "\n",
       "    .dataframe thead th {\n",
       "        text-align: right;\n",
       "    }\n",
       "</style>\n",
       "<table border=\"1\" class=\"dataframe\">\n",
       "  <thead>\n",
       "    <tr style=\"text-align: right;\">\n",
       "      <th></th>\n",
       "      <th>Country Name</th>\n",
       "      <th>Country Code</th>\n",
       "      <th>Indicator</th>\n",
       "      <th>Land area</th>\n",
       "      <th>Percent agriculture</th>\n",
       "      <th>Agriculture area</th>\n",
       "      <th>Palm area</th>\n",
       "      <th>Percet palm</th>\n",
       "      <th>Percent palm</th>\n",
       "    </tr>\n",
       "  </thead>\n",
       "  <tbody>\n",
       "    <tr>\n",
       "      <th>40</th>\n",
       "      <td>Cameroon</td>\n",
       "      <td>CMR</td>\n",
       "      <td>Land area (sq. km)</td>\n",
       "      <td>472710.0</td>\n",
       "      <td>20.625754</td>\n",
       "      <td>97500.0</td>\n",
       "      <td>1989.197370</td>\n",
       "      <td>2.040202</td>\n",
       "      <td>2.040202</td>\n",
       "    </tr>\n",
       "    <tr>\n",
       "      <th>42</th>\n",
       "      <td>Congo, Rep.</td>\n",
       "      <td>COG</td>\n",
       "      <td>Land area (sq. km)</td>\n",
       "      <td>341500.0</td>\n",
       "      <td>31.118594</td>\n",
       "      <td>106270.0</td>\n",
       "      <td>5358.292875</td>\n",
       "      <td>5.042150</td>\n",
       "      <td>5.042150</td>\n",
       "    </tr>\n",
       "    <tr>\n",
       "      <th>104</th>\n",
       "      <td>Indonesia</td>\n",
       "      <td>IDN</td>\n",
       "      <td>Land area (sq. km)</td>\n",
       "      <td>1811570.0</td>\n",
       "      <td>31.464420</td>\n",
       "      <td>570000.0</td>\n",
       "      <td>153522.903189</td>\n",
       "      <td>26.933843</td>\n",
       "      <td>26.933843</td>\n",
       "    </tr>\n",
       "    <tr>\n",
       "      <th>129</th>\n",
       "      <td>Liberia</td>\n",
       "      <td>LBR</td>\n",
       "      <td>Land area (sq. km)</td>\n",
       "      <td>96320.0</td>\n",
       "      <td>28.031561</td>\n",
       "      <td>27000.0</td>\n",
       "      <td>7469.890000</td>\n",
       "      <td>27.666259</td>\n",
       "      <td>27.666259</td>\n",
       "    </tr>\n",
       "  </tbody>\n",
       "</table>\n",
       "</div>"
      ],
      "text/plain": [
       "    Country Name Country Code           Indicator  Land area  \\\n",
       "40      Cameroon          CMR  Land area (sq. km)   472710.0   \n",
       "42   Congo, Rep.          COG  Land area (sq. km)   341500.0   \n",
       "104    Indonesia          IDN  Land area (sq. km)  1811570.0   \n",
       "129      Liberia          LBR  Land area (sq. km)    96320.0   \n",
       "\n",
       "     Percent agriculture  Agriculture area      Palm area  Percet palm  \\\n",
       "40             20.625754           97500.0    1989.197370     2.040202   \n",
       "42             31.118594          106270.0    5358.292875     5.042150   \n",
       "104            31.464420          570000.0  153522.903189    26.933843   \n",
       "129            28.031561           27000.0    7469.890000    27.666259   \n",
       "\n",
       "     Percent palm  \n",
       "40       2.040202  \n",
       "42       5.042150  \n",
       "104     26.933843  \n",
       "129     27.666259  "
      ]
     },
     "execution_count": 159,
     "metadata": {},
     "output_type": "execute_result"
    }
   ],
   "source": [
    "df"
   ]
  },
  {
   "cell_type": "code",
   "execution_count": 160,
   "metadata": {},
   "outputs": [
    {
     "data": {
      "text/plain": [
       "<matplotlib.axes._subplots.AxesSubplot at 0x10adac358>"
      ]
     },
     "execution_count": 160,
     "metadata": {},
     "output_type": "execute_result"
    },
    {
     "data": {
      "image/png": "[encoded data removed]",
      "text/plain": [
       "<Figure size 432x288 with 1 Axes>"
      ]
     },
     "metadata": {},
     "output_type": "display_data"
    }
   ],
   "source": [
    "df.plot(kind='barh', x='Country Name', y='Percent palm')"
   ]
  },
  {
   "cell_type": "code",
   "execution_count": 161,
   "metadata": {},
   "outputs": [],
   "source": [
    "df.to_csv('Four_countries_cleaned.csv', index=False)"
   ]
  },
  {
   "cell_type": "code",
   "execution_count": 2,
   "metadata": {},
   "outputs": [],
   "source": [
    "df = pd.read_csv('Four_countries_cleaned.csv')"
   ]
  },
  {
   "cell_type": "code",
   "execution_count": 10,
   "metadata": {},
   "outputs": [
    {
     "data": {
      "image/png": "[encoded data removed]",
      "text/plain": [
       "<Figure size 432x288 with 1 Axes>"
      ]
     },
     "metadata": {},
     "output_type": "display_data"
    }
   ],
   "source": [
    "ax = df.plot(kind='barh', x='Country Name', y='Percent palm', color='grey')\n",
    "\n",
    "plt.savefig(\"part_palm.pdf\")\n",
    "plt.show()"
   ]
  },
  {
   "cell_type": "code",
   "execution_count": 11,
   "metadata": {},
   "outputs": [
    {
     "data": {
      "image/png": "[encoded data removed]",
      "text/plain": [
       "<Figure size 432x288 with 1 Axes>"
      ]
     },
     "metadata": {},
     "output_type": "display_data"
    }
   ],
   "source": [
    "ax = df.plot(kind='barh', x='Country Name', y='Palm area', color='grey')\n",
    "\n",
    "plt.savefig(\"palm_area.pdf\")\n",
    "plt.show()"
   ]
  },
  {
   "cell_type": "code",
   "execution_count": null,
   "metadata": {},
   "outputs": [],
   "source": []
  }
 ],
 "metadata": {
  "kernelspec": {
   "display_name": "Python 3",
   "language": "python",
   "name": "python3"
  },
  "language_info": {
   "codemirror_mode": {
    "name": "ipython",
    "version": 3
   },
   "file_extension": ".py",
   "mimetype": "text/x-python",
   "name": "python",
   "nbconvert_exporter": "python",
   "pygments_lexer": "ipython3",
   "version": "3.6.4"
  }
 },
 "nbformat": 4,
 "nbformat_minor": 2
}
