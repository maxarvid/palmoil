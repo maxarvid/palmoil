{
 "cells": [
  {
   "cell_type": "code",
   "execution_count": 1,
   "metadata": {},
   "outputs": [],
   "source": [
    "import pandas as pd\n",
    "\n",
    "%matplotlib inline"
   ]
  },
  {
   "cell_type": "code",
   "execution_count": 2,
   "metadata": {},
   "outputs": [
    {
     "data": {
      "text/html": [
       "<div>\n",
       "<style scoped>\n",
       "    .dataframe tbody tr th:only-of-type {\n",
       "        vertical-align: middle;\n",
       "    }\n",
       "\n",
       "    .dataframe tbody tr th {\n",
       "        vertical-align: top;\n",
       "    }\n",
       "\n",
       "    .dataframe thead th {\n",
       "        text-align: right;\n",
       "    }\n",
       "</style>\n",
       "<table border=\"1\" class=\"dataframe\">\n",
       "  <thead>\n",
       "    <tr style=\"text-align: right;\">\n",
       "      <th></th>\n",
       "      <th>Country or Area</th>\n",
       "      <th>Year</th>\n",
       "      <th>Commodity</th>\n",
       "      <th>Flow</th>\n",
       "      <th>Trade (USD)</th>\n",
       "      <th>Weight (kg)</th>\n",
       "      <th>Quantity Name</th>\n",
       "      <th>Quantity</th>\n",
       "    </tr>\n",
       "  </thead>\n",
       "  <tbody>\n",
       "    <tr>\n",
       "      <th>0</th>\n",
       "      <td>Albania</td>\n",
       "      <td>2015</td>\n",
       "      <td>Palm oil, crude</td>\n",
       "      <td>Import</td>\n",
       "      <td>8845.0</td>\n",
       "      <td>7308.0</td>\n",
       "      <td>Weight in kilograms</td>\n",
       "      <td>7308.0</td>\n",
       "    </tr>\n",
       "    <tr>\n",
       "      <th>1</th>\n",
       "      <td>Albania</td>\n",
       "      <td>2014</td>\n",
       "      <td>Palm oil, crude</td>\n",
       "      <td>Import</td>\n",
       "      <td>370020.0</td>\n",
       "      <td>376420.0</td>\n",
       "      <td>Weight in kilograms</td>\n",
       "      <td>376420.0</td>\n",
       "    </tr>\n",
       "    <tr>\n",
       "      <th>2</th>\n",
       "      <td>Albania</td>\n",
       "      <td>2013</td>\n",
       "      <td>Palm oil, crude</td>\n",
       "      <td>Import</td>\n",
       "      <td>653860.0</td>\n",
       "      <td>570210.0</td>\n",
       "      <td>Weight in kilograms</td>\n",
       "      <td>570210.0</td>\n",
       "    </tr>\n",
       "    <tr>\n",
       "      <th>3</th>\n",
       "      <td>Albania</td>\n",
       "      <td>2012</td>\n",
       "      <td>Palm oil, crude</td>\n",
       "      <td>Import</td>\n",
       "      <td>744045.0</td>\n",
       "      <td>570430.0</td>\n",
       "      <td>Weight in kilograms</td>\n",
       "      <td>570430.0</td>\n",
       "    </tr>\n",
       "    <tr>\n",
       "      <th>4</th>\n",
       "      <td>Albania</td>\n",
       "      <td>2011</td>\n",
       "      <td>Palm oil, crude</td>\n",
       "      <td>Import</td>\n",
       "      <td>830556.0</td>\n",
       "      <td>530723.0</td>\n",
       "      <td>Weight in kilograms</td>\n",
       "      <td>530723.0</td>\n",
       "    </tr>\n",
       "  </tbody>\n",
       "</table>\n",
       "</div>"
      ],
      "text/plain": [
       "  Country or Area  Year        Commodity    Flow  Trade (USD)  Weight (kg)  \\\n",
       "0         Albania  2015  Palm oil, crude  Import       8845.0       7308.0   \n",
       "1         Albania  2014  Palm oil, crude  Import     370020.0     376420.0   \n",
       "2         Albania  2013  Palm oil, crude  Import     653860.0     570210.0   \n",
       "3         Albania  2012  Palm oil, crude  Import     744045.0     570430.0   \n",
       "4         Albania  2011  Palm oil, crude  Import     830556.0     530723.0   \n",
       "\n",
       "         Quantity Name  Quantity  \n",
       "0  Weight in kilograms    7308.0  \n",
       "1  Weight in kilograms  376420.0  \n",
       "2  Weight in kilograms  570210.0  \n",
       "3  Weight in kilograms  570430.0  \n",
       "4  Weight in kilograms  530723.0  "
      ]
     },
     "execution_count": 2,
     "metadata": {},
     "output_type": "execute_result"
    }
   ],
   "source": [
    "df = pd.read_csv('UNpalmoilimportexport.csv')\n",
    "df.head()"
   ]
  },
  {
   "cell_type": "code",
   "execution_count": 3,
   "metadata": {},
   "outputs": [
    {
     "data": {
      "text/plain": [
       "Import       2883\n",
       "Export       1577\n",
       "Re-Export     104\n",
       "Re-Import      21\n",
       "Name: Flow, dtype: int64"
      ]
     },
     "execution_count": 3,
     "metadata": {},
     "output_type": "execute_result"
    }
   ],
   "source": [
    "df.Flow.value_counts()"
   ]
  },
  {
   "cell_type": "code",
   "execution_count": 4,
   "metadata": {},
   "outputs": [
    {
     "data": {
      "text/plain": [
       "<matplotlib.axes._subplots.AxesSubplot at 0x1022cadd8>"
      ]
     },
     "execution_count": 4,
     "metadata": {},
     "output_type": "execute_result"
    },
    {
     "data": {
      "image/png": "[encoded data removed]",
      "text/plain": [
       "<Figure size 432x288 with 1 Axes>"
      ]
     },
     "metadata": {},
     "output_type": "display_data"
    }
   ],
   "source": [
    "df[(df.Flow == 'Import')].groupby('Year')['Trade (USD)'].sum().plot()"
   ]
  },
  {
   "cell_type": "code",
   "execution_count": 5,
   "metadata": {},
   "outputs": [
    {
     "data": {
      "text/plain": [
       "<matplotlib.axes._subplots.AxesSubplot at 0x102395b00>"
      ]
     },
     "execution_count": 5,
     "metadata": {},
     "output_type": "execute_result"
    },
    {
     "data": {
      "image/png": "[encoded data removed]",
      "text/plain": [
       "<Figure size 432x288 with 1 Axes>"
      ]
     },
     "metadata": {},
     "output_type": "display_data"
    }
   ],
   "source": [
    "df[(df.Flow == 'Export')].groupby('Year')['Trade (USD)'].sum().plot()"
   ]
  },
  {
   "cell_type": "code",
   "execution_count": 6,
   "metadata": {},
   "outputs": [
    {
     "data": {
      "text/plain": [
       "<matplotlib.axes._subplots.AxesSubplot at 0x1023fc2b0>"
      ]
     },
     "execution_count": 6,
     "metadata": {},
     "output_type": "execute_result"
    },
    {
     "data": {
      "image/png": "[encoded data removed]",
      "text/plain": [
       "<Figure size 432x288 with 1 Axes>"
      ]
     },
     "metadata": {},
     "output_type": "display_data"
    }
   ],
   "source": [
    "df[(df.Flow == 'Export')].groupby('Year')['Quantity'].sum().plot()"
   ]
  },
  {
   "cell_type": "code",
   "execution_count": 7,
   "metadata": {},
   "outputs": [
    {
     "data": {
      "text/plain": [
       "<matplotlib.axes._subplots.AxesSubplot at 0x106a00390>"
      ]
     },
     "execution_count": 7,
     "metadata": {},
     "output_type": "execute_result"
    },
    {
     "data": {
      "image/png": "[encoded data removed]",
      "text/plain": [
       "<Figure size 432x288 with 1 Axes>"
      ]
     },
     "metadata": {},
     "output_type": "display_data"
    }
   ],
   "source": [
    "df[(df.Flow == 'Import')].groupby('Year')['Quantity'].sum().plot()"
   ]
  },
  {
   "cell_type": "code",
   "execution_count": 8,
   "metadata": {},
   "outputs": [
    {
     "data": {
      "text/html": [
       "<div>\n",
       "<style scoped>\n",
       "    .dataframe tbody tr th:only-of-type {\n",
       "        vertical-align: middle;\n",
       "    }\n",
       "\n",
       "    .dataframe tbody tr th {\n",
       "        vertical-align: top;\n",
       "    }\n",
       "\n",
       "    .dataframe thead th {\n",
       "        text-align: right;\n",
       "    }\n",
       "</style>\n",
       "<table border=\"1\" class=\"dataframe\">\n",
       "  <thead>\n",
       "    <tr style=\"text-align: right;\">\n",
       "      <th></th>\n",
       "      <th>Country or Area</th>\n",
       "      <th>Year</th>\n",
       "      <th>Commodity</th>\n",
       "      <th>Flow</th>\n",
       "      <th>Trade (USD)</th>\n",
       "      <th>Weight (kg)</th>\n",
       "      <th>Quantity Name</th>\n",
       "      <th>Quantity</th>\n",
       "    </tr>\n",
       "  </thead>\n",
       "  <tbody>\n",
       "    <tr>\n",
       "      <th>0</th>\n",
       "      <td>Albania</td>\n",
       "      <td>2015</td>\n",
       "      <td>Palm oil, crude</td>\n",
       "      <td>Import</td>\n",
       "      <td>8845.0</td>\n",
       "      <td>7308.0</td>\n",
       "      <td>Weight in kilograms</td>\n",
       "      <td>7308.0</td>\n",
       "    </tr>\n",
       "    <tr>\n",
       "      <th>1</th>\n",
       "      <td>Albania</td>\n",
       "      <td>2014</td>\n",
       "      <td>Palm oil, crude</td>\n",
       "      <td>Import</td>\n",
       "      <td>370020.0</td>\n",
       "      <td>376420.0</td>\n",
       "      <td>Weight in kilograms</td>\n",
       "      <td>376420.0</td>\n",
       "    </tr>\n",
       "    <tr>\n",
       "      <th>2</th>\n",
       "      <td>Albania</td>\n",
       "      <td>2013</td>\n",
       "      <td>Palm oil, crude</td>\n",
       "      <td>Import</td>\n",
       "      <td>653860.0</td>\n",
       "      <td>570210.0</td>\n",
       "      <td>Weight in kilograms</td>\n",
       "      <td>570210.0</td>\n",
       "    </tr>\n",
       "    <tr>\n",
       "      <th>3</th>\n",
       "      <td>Albania</td>\n",
       "      <td>2012</td>\n",
       "      <td>Palm oil, crude</td>\n",
       "      <td>Import</td>\n",
       "      <td>744045.0</td>\n",
       "      <td>570430.0</td>\n",
       "      <td>Weight in kilograms</td>\n",
       "      <td>570430.0</td>\n",
       "    </tr>\n",
       "    <tr>\n",
       "      <th>4</th>\n",
       "      <td>Albania</td>\n",
       "      <td>2011</td>\n",
       "      <td>Palm oil, crude</td>\n",
       "      <td>Import</td>\n",
       "      <td>830556.0</td>\n",
       "      <td>530723.0</td>\n",
       "      <td>Weight in kilograms</td>\n",
       "      <td>530723.0</td>\n",
       "    </tr>\n",
       "  </tbody>\n",
       "</table>\n",
       "</div>"
      ],
      "text/plain": [
       "  Country or Area  Year        Commodity    Flow  Trade (USD)  Weight (kg)  \\\n",
       "0         Albania  2015  Palm oil, crude  Import       8845.0       7308.0   \n",
       "1         Albania  2014  Palm oil, crude  Import     370020.0     376420.0   \n",
       "2         Albania  2013  Palm oil, crude  Import     653860.0     570210.0   \n",
       "3         Albania  2012  Palm oil, crude  Import     744045.0     570430.0   \n",
       "4         Albania  2011  Palm oil, crude  Import     830556.0     530723.0   \n",
       "\n",
       "         Quantity Name  Quantity  \n",
       "0  Weight in kilograms    7308.0  \n",
       "1  Weight in kilograms  376420.0  \n",
       "2  Weight in kilograms  570210.0  \n",
       "3  Weight in kilograms  570430.0  \n",
       "4  Weight in kilograms  530723.0  "
      ]
     },
     "execution_count": 8,
     "metadata": {},
     "output_type": "execute_result"
    }
   ],
   "source": [
    "df.head()\n"
   ]
  },
  {
   "cell_type": "code",
   "execution_count": 9,
   "metadata": {},
   "outputs": [
    {
     "data": {
      "text/plain": [
       "Malaysia                            29\n",
       "Portugal                            29\n",
       "Brazil                              29\n",
       "Singapore                           29\n",
       "Indonesia                           29\n",
       "Colombia                            27\n",
       "USA                                 27\n",
       "Germany                             27\n",
       "Spain                               26\n",
       "Ecuador                             26\n",
       "Netherlands                         26\n",
       "United Kingdom                      25\n",
       "France                              24\n",
       "Italy                               24\n",
       "Greece                              24\n",
       "Thailand                            23\n",
       "Denmark                             23\n",
       "Costa Rica                          23\n",
       "Guatemala                           23\n",
       "Madagascar                          23\n",
       "Burundi                             23\n",
       "Senegal                             22\n",
       "Ireland                             22\n",
       "Honduras                            22\n",
       "Canada                              22\n",
       "India                               21\n",
       "Côte d'Ivoire                       21\n",
       "Cameroon                            21\n",
       "Togo                                21\n",
       "United Rep. of Tanzania             21\n",
       "                                    ..\n",
       "Morocco                              3\n",
       "Suriname                             3\n",
       "Fmr Fed. Rep. of Germany             3\n",
       "Bangladesh                           2\n",
       "Kazakhstan                           2\n",
       "Myanmar                              2\n",
       "Belarus                              2\n",
       "Iceland                              2\n",
       "Argentina                            2\n",
       "Algeria                              2\n",
       "Brunei Darussalam                    2\n",
       "Azerbaijan                           2\n",
       "Chile                                1\n",
       "Sao Tome and Principe                1\n",
       "Barbados                             1\n",
       "Kyrgyzstan                           1\n",
       "Malta                                1\n",
       "Guyana                               1\n",
       "Djibouti                             1\n",
       "Fmr Sudan                            1\n",
       "Qatar                                1\n",
       "Zimbabwe                             1\n",
       "Syria                                1\n",
       "Mauritius                            1\n",
       "Bhutan                               1\n",
       "Bosnia Herzegovina                   1\n",
       "Bahrain                              1\n",
       "Burkina Faso                         1\n",
       "Bolivia (Plurinational State of)     1\n",
       "French Polynesia                     1\n",
       "Name: Country or Area, Length: 139, dtype: int64"
      ]
     },
     "execution_count": 9,
     "metadata": {},
     "output_type": "execute_result"
    }
   ],
   "source": [
    "df[df.Flow == 'Export']['Country or Area'].value_counts()"
   ]
  },
  {
   "cell_type": "code",
   "execution_count": 10,
   "metadata": {},
   "outputs": [],
   "source": [
    "exports_df = df[df.Flow == 'Export']"
   ]
  },
  {
   "cell_type": "code",
   "execution_count": 11,
   "metadata": {},
   "outputs": [
    {
     "data": {
      "text/html": [
       "<div>\n",
       "<style scoped>\n",
       "    .dataframe tbody tr th:only-of-type {\n",
       "        vertical-align: middle;\n",
       "    }\n",
       "\n",
       "    .dataframe tbody tr th {\n",
       "        vertical-align: top;\n",
       "    }\n",
       "\n",
       "    .dataframe thead th {\n",
       "        text-align: right;\n",
       "    }\n",
       "</style>\n",
       "<table border=\"1\" class=\"dataframe\">\n",
       "  <thead>\n",
       "    <tr style=\"text-align: right;\">\n",
       "      <th></th>\n",
       "      <th>Country or Area</th>\n",
       "      <th>Year</th>\n",
       "      <th>Commodity</th>\n",
       "      <th>Flow</th>\n",
       "      <th>Trade (USD)</th>\n",
       "      <th>Weight (kg)</th>\n",
       "      <th>Quantity Name</th>\n",
       "      <th>Quantity</th>\n",
       "    </tr>\n",
       "  </thead>\n",
       "  <tbody>\n",
       "    <tr>\n",
       "      <th>23</th>\n",
       "      <td>Algeria</td>\n",
       "      <td>2014</td>\n",
       "      <td>Palm oil, crude</td>\n",
       "      <td>Export</td>\n",
       "      <td>1378.0</td>\n",
       "      <td>2500.0</td>\n",
       "      <td>Weight in kilograms</td>\n",
       "      <td>2500.0</td>\n",
       "    </tr>\n",
       "    <tr>\n",
       "      <th>39</th>\n",
       "      <td>Algeria</td>\n",
       "      <td>1999</td>\n",
       "      <td>Palm oil, crude</td>\n",
       "      <td>Export</td>\n",
       "      <td>1796553.0</td>\n",
       "      <td>3325500.0</td>\n",
       "      <td>Weight in kilograms</td>\n",
       "      <td>3325500.0</td>\n",
       "    </tr>\n",
       "    <tr>\n",
       "      <th>73</th>\n",
       "      <td>Argentina</td>\n",
       "      <td>1997</td>\n",
       "      <td>Palm oil, crude</td>\n",
       "      <td>Export</td>\n",
       "      <td>2.0</td>\n",
       "      <td>0.0</td>\n",
       "      <td>No Quantity</td>\n",
       "      <td>0.0</td>\n",
       "    </tr>\n",
       "    <tr>\n",
       "      <th>77</th>\n",
       "      <td>Argentina</td>\n",
       "      <td>1994</td>\n",
       "      <td>Palm oil, crude</td>\n",
       "      <td>Export</td>\n",
       "      <td>10964.0</td>\n",
       "      <td>2500.0</td>\n",
       "      <td>Weight in kilograms</td>\n",
       "      <td>2500.0</td>\n",
       "    </tr>\n",
       "    <tr>\n",
       "      <th>88</th>\n",
       "      <td>Australia</td>\n",
       "      <td>2016</td>\n",
       "      <td>Palm oil, crude</td>\n",
       "      <td>Export</td>\n",
       "      <td>56.0</td>\n",
       "      <td>0.0</td>\n",
       "      <td>Weight in kilograms</td>\n",
       "      <td>0.0</td>\n",
       "    </tr>\n",
       "  </tbody>\n",
       "</table>\n",
       "</div>"
      ],
      "text/plain": [
       "   Country or Area  Year        Commodity    Flow  Trade (USD)  Weight (kg)  \\\n",
       "23         Algeria  2014  Palm oil, crude  Export       1378.0       2500.0   \n",
       "39         Algeria  1999  Palm oil, crude  Export    1796553.0    3325500.0   \n",
       "73       Argentina  1997  Palm oil, crude  Export          2.0          0.0   \n",
       "77       Argentina  1994  Palm oil, crude  Export      10964.0       2500.0   \n",
       "88       Australia  2016  Palm oil, crude  Export         56.0          0.0   \n",
       "\n",
       "          Quantity Name   Quantity  \n",
       "23  Weight in kilograms     2500.0  \n",
       "39  Weight in kilograms  3325500.0  \n",
       "73          No Quantity        0.0  \n",
       "77  Weight in kilograms     2500.0  \n",
       "88  Weight in kilograms        0.0  "
      ]
     },
     "execution_count": 11,
     "metadata": {},
     "output_type": "execute_result"
    }
   ],
   "source": [
    "exports_df.head()"
   ]
  },
  {
   "cell_type": "code",
   "execution_count": 12,
   "metadata": {},
   "outputs": [],
   "source": [
    "exports_df = exports_df.drop(columns=['Commodity', 'Flow', 'Weight (kg)', 'Quantity Name', 'Quantity'])"
   ]
  },
  {
   "cell_type": "code",
   "execution_count": 13,
   "metadata": {},
   "outputs": [],
   "source": [
    "exports_df = exports_df.rename(index=str, columns={'Country or Area': 'country', 'Year': 'year', 'Trade (USD)': 'tradeUSD'})"
   ]
  },
  {
   "cell_type": "code",
   "execution_count": 14,
   "metadata": {},
   "outputs": [
    {
     "data": {
      "text/html": [
       "<div>\n",
       "<style scoped>\n",
       "    .dataframe tbody tr th:only-of-type {\n",
       "        vertical-align: middle;\n",
       "    }\n",
       "\n",
       "    .dataframe tbody tr th {\n",
       "        vertical-align: top;\n",
       "    }\n",
       "\n",
       "    .dataframe thead th {\n",
       "        text-align: right;\n",
       "    }\n",
       "</style>\n",
       "<table border=\"1\" class=\"dataframe\">\n",
       "  <thead>\n",
       "    <tr style=\"text-align: right;\">\n",
       "      <th></th>\n",
       "      <th>country</th>\n",
       "      <th>year</th>\n",
       "      <th>tradeUSD</th>\n",
       "    </tr>\n",
       "  </thead>\n",
       "  <tbody>\n",
       "    <tr>\n",
       "      <th>23</th>\n",
       "      <td>Algeria</td>\n",
       "      <td>2014</td>\n",
       "      <td>1378.0</td>\n",
       "    </tr>\n",
       "    <tr>\n",
       "      <th>39</th>\n",
       "      <td>Algeria</td>\n",
       "      <td>1999</td>\n",
       "      <td>1796553.0</td>\n",
       "    </tr>\n",
       "    <tr>\n",
       "      <th>73</th>\n",
       "      <td>Argentina</td>\n",
       "      <td>1997</td>\n",
       "      <td>2.0</td>\n",
       "    </tr>\n",
       "    <tr>\n",
       "      <th>77</th>\n",
       "      <td>Argentina</td>\n",
       "      <td>1994</td>\n",
       "      <td>10964.0</td>\n",
       "    </tr>\n",
       "    <tr>\n",
       "      <th>88</th>\n",
       "      <td>Australia</td>\n",
       "      <td>2016</td>\n",
       "      <td>56.0</td>\n",
       "    </tr>\n",
       "  </tbody>\n",
       "</table>\n",
       "</div>"
      ],
      "text/plain": [
       "      country  year   tradeUSD\n",
       "23    Algeria  2014     1378.0\n",
       "39    Algeria  1999  1796553.0\n",
       "73  Argentina  1997        2.0\n",
       "77  Argentina  1994    10964.0\n",
       "88  Australia  2016       56.0"
      ]
     },
     "execution_count": 14,
     "metadata": {},
     "output_type": "execute_result"
    }
   ],
   "source": [
    "exports_df.head()"
   ]
  },
  {
   "cell_type": "code",
   "execution_count": 15,
   "metadata": {},
   "outputs": [],
   "source": [
    "exports_df.to_csv('exports.csv', index=False)"
   ]
  },
  {
   "cell_type": "code",
   "execution_count": 16,
   "metadata": {},
   "outputs": [],
   "source": [
    "imports_df = df[df.Flow == 'Import']"
   ]
  },
  {
   "cell_type": "code",
   "execution_count": 17,
   "metadata": {},
   "outputs": [
    {
     "data": {
      "text/html": [
       "<div>\n",
       "<style scoped>\n",
       "    .dataframe tbody tr th:only-of-type {\n",
       "        vertical-align: middle;\n",
       "    }\n",
       "\n",
       "    .dataframe tbody tr th {\n",
       "        vertical-align: top;\n",
       "    }\n",
       "\n",
       "    .dataframe thead th {\n",
       "        text-align: right;\n",
       "    }\n",
       "</style>\n",
       "<table border=\"1\" class=\"dataframe\">\n",
       "  <thead>\n",
       "    <tr style=\"text-align: right;\">\n",
       "      <th></th>\n",
       "      <th>Country or Area</th>\n",
       "      <th>Year</th>\n",
       "      <th>Commodity</th>\n",
       "      <th>Flow</th>\n",
       "      <th>Trade (USD)</th>\n",
       "      <th>Weight (kg)</th>\n",
       "      <th>Quantity Name</th>\n",
       "      <th>Quantity</th>\n",
       "    </tr>\n",
       "  </thead>\n",
       "  <tbody>\n",
       "    <tr>\n",
       "      <th>0</th>\n",
       "      <td>Albania</td>\n",
       "      <td>2015</td>\n",
       "      <td>Palm oil, crude</td>\n",
       "      <td>Import</td>\n",
       "      <td>8845.0</td>\n",
       "      <td>7308.0</td>\n",
       "      <td>Weight in kilograms</td>\n",
       "      <td>7308.0</td>\n",
       "    </tr>\n",
       "    <tr>\n",
       "      <th>1</th>\n",
       "      <td>Albania</td>\n",
       "      <td>2014</td>\n",
       "      <td>Palm oil, crude</td>\n",
       "      <td>Import</td>\n",
       "      <td>370020.0</td>\n",
       "      <td>376420.0</td>\n",
       "      <td>Weight in kilograms</td>\n",
       "      <td>376420.0</td>\n",
       "    </tr>\n",
       "    <tr>\n",
       "      <th>2</th>\n",
       "      <td>Albania</td>\n",
       "      <td>2013</td>\n",
       "      <td>Palm oil, crude</td>\n",
       "      <td>Import</td>\n",
       "      <td>653860.0</td>\n",
       "      <td>570210.0</td>\n",
       "      <td>Weight in kilograms</td>\n",
       "      <td>570210.0</td>\n",
       "    </tr>\n",
       "    <tr>\n",
       "      <th>3</th>\n",
       "      <td>Albania</td>\n",
       "      <td>2012</td>\n",
       "      <td>Palm oil, crude</td>\n",
       "      <td>Import</td>\n",
       "      <td>744045.0</td>\n",
       "      <td>570430.0</td>\n",
       "      <td>Weight in kilograms</td>\n",
       "      <td>570430.0</td>\n",
       "    </tr>\n",
       "    <tr>\n",
       "      <th>4</th>\n",
       "      <td>Albania</td>\n",
       "      <td>2011</td>\n",
       "      <td>Palm oil, crude</td>\n",
       "      <td>Import</td>\n",
       "      <td>830556.0</td>\n",
       "      <td>530723.0</td>\n",
       "      <td>Weight in kilograms</td>\n",
       "      <td>530723.0</td>\n",
       "    </tr>\n",
       "  </tbody>\n",
       "</table>\n",
       "</div>"
      ],
      "text/plain": [
       "  Country or Area  Year        Commodity    Flow  Trade (USD)  Weight (kg)  \\\n",
       "0         Albania  2015  Palm oil, crude  Import       8845.0       7308.0   \n",
       "1         Albania  2014  Palm oil, crude  Import     370020.0     376420.0   \n",
       "2         Albania  2013  Palm oil, crude  Import     653860.0     570210.0   \n",
       "3         Albania  2012  Palm oil, crude  Import     744045.0     570430.0   \n",
       "4         Albania  2011  Palm oil, crude  Import     830556.0     530723.0   \n",
       "\n",
       "         Quantity Name  Quantity  \n",
       "0  Weight in kilograms    7308.0  \n",
       "1  Weight in kilograms  376420.0  \n",
       "2  Weight in kilograms  570210.0  \n",
       "3  Weight in kilograms  570430.0  \n",
       "4  Weight in kilograms  530723.0  "
      ]
     },
     "execution_count": 17,
     "metadata": {},
     "output_type": "execute_result"
    }
   ],
   "source": [
    "imports_df.head()"
   ]
  },
  {
   "cell_type": "code",
   "execution_count": 18,
   "metadata": {},
   "outputs": [],
   "source": [
    "imports_df = imports_df.drop(columns=['Commodity', 'Flow', 'Weight (kg)', 'Quantity Name', 'Quantity'])\n",
    "imports_df = imports_df.rename(index=str, columns={'Country or Area': 'country', 'Year': 'year', 'Trade (USD)': 'tradeUSD'})"
   ]
  },
  {
   "cell_type": "code",
   "execution_count": 19,
   "metadata": {},
   "outputs": [
    {
     "data": {
      "text/html": [
       "<div>\n",
       "<style scoped>\n",
       "    .dataframe tbody tr th:only-of-type {\n",
       "        vertical-align: middle;\n",
       "    }\n",
       "\n",
       "    .dataframe tbody tr th {\n",
       "        vertical-align: top;\n",
       "    }\n",
       "\n",
       "    .dataframe thead th {\n",
       "        text-align: right;\n",
       "    }\n",
       "</style>\n",
       "<table border=\"1\" class=\"dataframe\">\n",
       "  <thead>\n",
       "    <tr style=\"text-align: right;\">\n",
       "      <th></th>\n",
       "      <th>country</th>\n",
       "      <th>year</th>\n",
       "      <th>tradeUSD</th>\n",
       "    </tr>\n",
       "  </thead>\n",
       "  <tbody>\n",
       "    <tr>\n",
       "      <th>0</th>\n",
       "      <td>Albania</td>\n",
       "      <td>2015</td>\n",
       "      <td>8845.0</td>\n",
       "    </tr>\n",
       "    <tr>\n",
       "      <th>1</th>\n",
       "      <td>Albania</td>\n",
       "      <td>2014</td>\n",
       "      <td>370020.0</td>\n",
       "    </tr>\n",
       "    <tr>\n",
       "      <th>2</th>\n",
       "      <td>Albania</td>\n",
       "      <td>2013</td>\n",
       "      <td>653860.0</td>\n",
       "    </tr>\n",
       "    <tr>\n",
       "      <th>3</th>\n",
       "      <td>Albania</td>\n",
       "      <td>2012</td>\n",
       "      <td>744045.0</td>\n",
       "    </tr>\n",
       "    <tr>\n",
       "      <th>4</th>\n",
       "      <td>Albania</td>\n",
       "      <td>2011</td>\n",
       "      <td>830556.0</td>\n",
       "    </tr>\n",
       "  </tbody>\n",
       "</table>\n",
       "</div>"
      ],
      "text/plain": [
       "   country  year  tradeUSD\n",
       "0  Albania  2015    8845.0\n",
       "1  Albania  2014  370020.0\n",
       "2  Albania  2013  653860.0\n",
       "3  Albania  2012  744045.0\n",
       "4  Albania  2011  830556.0"
      ]
     },
     "execution_count": 19,
     "metadata": {},
     "output_type": "execute_result"
    }
   ],
   "source": [
    "imports_df.head()"
   ]
  },
  {
   "cell_type": "code",
   "execution_count": 20,
   "metadata": {},
   "outputs": [],
   "source": [
    "imports_df.to_csv('imports.csv', index=False)"
   ]
  },
  {
   "cell_type": "code",
   "execution_count": 21,
   "metadata": {},
   "outputs": [],
   "source": [
    "imports_summed = imports_df.groupby('country').sum()\n",
    "exports_summed = exports_df.groupby('country').sum()"
   ]
  },
  {
   "cell_type": "code",
   "execution_count": 22,
   "metadata": {},
   "outputs": [],
   "source": [
    "imports_summed.drop(columns='year', inplace=True)\n",
    "exports_summed.drop(columns='year', inplace=True)"
   ]
  },
  {
   "cell_type": "code",
   "execution_count": 25,
   "metadata": {},
   "outputs": [],
   "source": [
    "imports_summed.to_csv('importsSummed.csv')\n",
    "exports_summed.to_csv('exportsSummed.csv')"
   ]
  },
  {
   "cell_type": "code",
   "execution_count": 39,
   "metadata": {},
   "outputs": [
    {
     "data": {
      "text/html": [
       "<div>\n",
       "<style scoped>\n",
       "    .dataframe tbody tr th:only-of-type {\n",
       "        vertical-align: middle;\n",
       "    }\n",
       "\n",
       "    .dataframe tbody tr th {\n",
       "        vertical-align: top;\n",
       "    }\n",
       "\n",
       "    .dataframe thead th {\n",
       "        text-align: right;\n",
       "    }\n",
       "</style>\n",
       "<table border=\"1\" class=\"dataframe\">\n",
       "  <thead>\n",
       "    <tr style=\"text-align: right;\">\n",
       "      <th></th>\n",
       "      <th>tradeUSD</th>\n",
       "    </tr>\n",
       "  </thead>\n",
       "  <tbody>\n",
       "    <tr>\n",
       "      <th>count</th>\n",
       "      <td>1.930000e+02</td>\n",
       "    </tr>\n",
       "    <tr>\n",
       "      <th>mean</th>\n",
       "      <td>1.050876e+09</td>\n",
       "    </tr>\n",
       "    <tr>\n",
       "      <th>std</th>\n",
       "      <td>5.174941e+09</td>\n",
       "    </tr>\n",
       "    <tr>\n",
       "      <th>min</th>\n",
       "      <td>1.050000e+02</td>\n",
       "    </tr>\n",
       "    <tr>\n",
       "      <th>25%</th>\n",
       "      <td>3.450440e+05</td>\n",
       "    </tr>\n",
       "    <tr>\n",
       "      <th>50%</th>\n",
       "      <td>1.053947e+07</td>\n",
       "    </tr>\n",
       "    <tr>\n",
       "      <th>75%</th>\n",
       "      <td>1.725500e+08</td>\n",
       "    </tr>\n",
       "    <tr>\n",
       "      <th>max</th>\n",
       "      <td>5.032843e+10</td>\n",
       "    </tr>\n",
       "  </tbody>\n",
       "</table>\n",
       "</div>"
      ],
      "text/plain": [
       "           tradeUSD\n",
       "count  1.930000e+02\n",
       "mean   1.050876e+09\n",
       "std    5.174941e+09\n",
       "min    1.050000e+02\n",
       "25%    3.450440e+05\n",
       "50%    1.053947e+07\n",
       "75%    1.725500e+08\n",
       "max    5.032843e+10"
      ]
     },
     "execution_count": 39,
     "metadata": {},
     "output_type": "execute_result"
    }
   ],
   "source": [
    "imports_summed.describe()"
   ]
  },
  {
   "cell_type": "code",
   "execution_count": null,
   "metadata": {},
   "outputs": [],
   "source": []
  }
 ],
 "metadata": {
  "kernelspec": {
   "display_name": "Python 3",
   "language": "python",
   "name": "python3"
  },
  "language_info": {
   "codemirror_mode": {
    "name": "ipython",
    "version": 3
   },
   "file_extension": ".py",
   "mimetype": "text/x-python",
   "name": "python",
   "nbconvert_exporter": "python",
   "pygments_lexer": "ipython3",
   "version": "3.6.4"
  }
 },
 "nbformat": 4,
 "nbformat_minor": 2
}
